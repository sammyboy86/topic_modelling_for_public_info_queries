{
 "cells": [
  {
   "cell_type": "code",
   "execution_count": 12,
   "metadata": {},
   "outputs": [],
   "source": [
    "import spacy\n",
    "import es_dep_news_trf\n",
    "import pandas as pd\n",
    "import re\n",
    "import time\n",
    "import multiprocessing as mp\n",
    "\n",
    "pd.set_option('display.max_colwidth', None)\n",
    "pd.options.mode.chained_assignment = None  # default='warn'\n"
   ]
  },
  {
   "cell_type": "code",
   "execution_count": 13,
   "metadata": {},
   "outputs": [],
   "source": [
    "nlp = spacy.load(\"es_dep_news_trf\")\n",
    "nlp = es_dep_news_trf.load()"
   ]
  },
  {
   "cell_type": "code",
   "execution_count": 14,
   "metadata": {},
   "outputs": [],
   "source": [
    "df_entradas=pd.read_feather('../data/solicitudes.feather') # cargar base\n",
    "#df_entradas=pd.read_csv('../data/Prueba 1 ITAM.csv')"
   ]
  },
  {
   "cell_type": "code",
   "execution_count": 15,
   "metadata": {},
   "outputs": [],
   "source": [
    "\n",
    "columna_interes= \"DESCRIPCIONSOLICITUD\"\n",
    "#columna_interes= \"Descripción\"\n",
    "num_entradas = 10000\n",
    "#num_entradas = df_entradas.shape[0]\n",
    "df_entradas_100 = df_entradas.loc[0:(num_entradas-1), [columna_interes]]\n",
    "\n",
    "num_palabras = sum([len(texto.split()) for texto in df_entradas_100[columna_interes]])\n",
    "tamanio_archivo = df_entradas_100.memory_usage(deep=True).sum()\n"
   ]
  },
  {
   "cell_type": "code",
   "execution_count": 16,
   "metadata": {},
   "outputs": [],
   "source": [
    "#%% reemplazamos las palabras de regex por #####\n",
    "def testar_regex(texto):\n",
    "\n",
    "    #correo electronico\n",
    "    regex=re.sub(\"([a-zA-Z0-9._-]+@[a-zA-Z0-9._-]+\\.[a-zA-Z0-9_-]+)\", '#####', texto)\n",
    "\n",
    "    #clave de elector\n",
    "    regex=re.sub(\"[A-Z]{6}[0-9]{6,}(H|M)[0-9]{3}\", '#####', regex)\n",
    "\n",
    "    #curp\n",
    "    regex=re.sub(\"[A-Z]{4}[0-9]{6}[A-Z]{6}([A-Z][0-9]|0[0-9])\", '#####', regex)\n",
    "\n",
    "    #RFC\n",
    "    regex=re.sub(\"[A-Z,Ñ,&]{3,4}([0-9]{2})(0[1-9]|1[0-2])(0[1-9]|1[0-9]|2[0-9]|3[0-1])[A-Z|\\d]{3}\", '#####', regex)\n",
    "\n",
    "    #numero cartilla militar\n",
    "    regex=re.sub(\"(A|B|C)([0-9]{7,8}|\\-[0-9]{7,8})\", '#####', regex)\n",
    "\n",
    "    #numero tel\n",
    "    regex=re.sub(\"[0-9]{8,}|[0-9]{3} [0-9]{7}|[0-9]{2,3}(\\-|.)[0-9]{4}(\\-|.)[0-9]{4}\", '#####', regex)\n",
    "\n",
    "    return regex"
   ]
  },
  {
   "cell_type": "code",
   "execution_count": 17,
   "metadata": {},
   "outputs": [],
   "source": [
    "startTime = time.time() \n",
    "df_entradas_100[columna_interes] = df_entradas_100[columna_interes].apply(lambda x: testar_regex(x))"
   ]
  },
  {
   "cell_type": "code",
   "execution_count": 18,
   "metadata": {},
   "outputs": [],
   "source": [
    "pool = mp.Pool(mp.cpu_count())\n",
    "\n",
    "df_entradas_100['entidades'] = pool.map(nlp, df_entradas_100['DESCRIPCIONSOLICITUD'])\n",
    "\n",
    "pool.close()"
   ]
  },
  {
   "cell_type": "code",
   "execution_count": 19,
   "metadata": {},
   "outputs": [],
   "source": [
    "df_entradas_100['entidades'] = df_entradas_100['entidades'].apply(lambda X: [(entidad.text, entidad.pos_) for entidad in X])\n"
   ]
  },
  {
   "cell_type": "code",
   "execution_count": 20,
   "metadata": {},
   "outputs": [],
   "source": [
    "df_entradas_100['testado'] = df_entradas_100['entidades'].apply(lambda x: [pair[0] if pair[1]!=\"PROPN\" else \"####\" for pair in x])\n",
    "endTime = time.time()"
   ]
  },
  {
   "cell_type": "code",
   "execution_count": 22,
   "metadata": {},
   "outputs": [
    {
     "name": "stdout",
     "output_type": "stream",
     "text": [
      "Total entradas: 10000\n",
      "Total palabras: 474477\n",
      "Total memoria: 37774.17 KB\n",
      "Tiempo de corrida: 23 min 57.329638957977295 seg\n"
     ]
    }
   ],
   "source": [
    "print('Total entradas: ' + str(df_entradas_100.shape[0]) + '\\nTotal palabras: ' + str(num_palabras) + '\\nTotal memoria: ' + str(tamanio_archivo/100) + \" KB\" + '\\nTiempo de corrida: ' + str(int((endTime - startTime)/60)) + ' min ' + str((endTime - startTime)%60) + ' seg')"
   ]
  },
  {
   "cell_type": "code",
   "execution_count": 1,
   "metadata": {},
   "outputs": [
    {
     "ename": "TypeError",
     "evalue": "'float' object cannot be interpreted as an integer",
     "output_type": "error",
     "traceback": [
      "\u001b[1;31m---------------------------------------------------------------------------\u001b[0m",
      "\u001b[1;31mTypeError\u001b[0m                                 Traceback (most recent call last)",
      "Cell \u001b[1;32mIn[1], line 1\u001b[0m\n\u001b[1;32m----> 1\u001b[0m \u001b[39mfor\u001b[39;00m i \u001b[39min\u001b[39;00m \u001b[39mrange\u001b[39;49m(\u001b[39m1.1\u001b[39;49m):\n\u001b[0;32m      2\u001b[0m     \u001b[39mprint\u001b[39m(\u001b[39m'\u001b[39m\u001b[39ma\u001b[39m\u001b[39m'\u001b[39m)\n",
      "\u001b[1;31mTypeError\u001b[0m: 'float' object cannot be interpreted as an integer"
     ]
    }
   ],
   "source": [
    "for i in range(1.1):\n",
    "    print('a')"
   ]
  }
 ],
 "metadata": {
  "kernelspec": {
   "display_name": "cdas_o22",
   "language": "python",
   "name": "python3"
  },
  "language_info": {
   "codemirror_mode": {
    "name": "ipython",
    "version": 3
   },
   "file_extension": ".py",
   "mimetype": "text/x-python",
   "name": "python",
   "nbconvert_exporter": "python",
   "pygments_lexer": "ipython3",
   "version": "3.10.8 | packaged by conda-forge | (main, Nov 24 2022, 14:07:00) [MSC v.1916 64 bit (AMD64)]"
  },
  "orig_nbformat": 4,
  "vscode": {
   "interpreter": {
    "hash": "9d39c667323fb0b0bc1a91a50793772bfde26a5b0af7b5e6bc375d64e532dc23"
   }
  }
 },
 "nbformat": 4,
 "nbformat_minor": 2
}
