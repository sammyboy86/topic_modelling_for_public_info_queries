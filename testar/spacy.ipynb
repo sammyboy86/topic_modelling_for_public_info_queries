{
 "cells": [
  {
   "cell_type": "code",
   "execution_count": 18,
   "metadata": {},
   "outputs": [],
   "source": [
    "import spacy\n",
    "import pandas as pd\n",
    "pd.set_option('display.max_colwidth', None)\n",
    "import numpy as np\n",
    "\n",
    "#conda install -c conda-forge spacy-model-es_dep_news_trf"
   ]
  },
  {
   "cell_type": "markdown",
   "metadata": {},
   "source": [
    "SPACY"
   ]
  },
  {
   "cell_type": "code",
   "execution_count": 21,
   "metadata": {},
   "outputs": [
    {
     "data": {
      "text/plain": [
       "<function spacy.pipeline.functions.merge_entities(doc: spacy.tokens.doc.Doc)>"
      ]
     },
     "execution_count": 21,
     "metadata": {},
     "output_type": "execute_result"
    }
   ],
   "source": [
    "nlp = spacy.load(\"es_core_news_sm\") #cargar modelo\n",
    "nlp.add_pipe(\"merge_entities\") #decirle que junte entidades nombradas"
   ]
  },
  {
   "cell_type": "code",
   "execution_count": 3,
   "metadata": {},
   "outputs": [],
   "source": [
    "consultas = pd.read_excel('../data/BD_testparatesteo.xlsx') # cargar base\n"
   ]
  },
  {
   "cell_type": "code",
   "execution_count": 22,
   "metadata": {},
   "outputs": [],
   "source": [
    "df_entradas = consultas[['DESCRIPCIONSOLICITUD']] #seleccionar columna de interes"
   ]
  },
  {
   "cell_type": "code",
   "execution_count": 29,
   "metadata": {},
   "outputs": [],
   "source": [
    "df_entradas_100 = df_entradas.loc[0:99]"
   ]
  },
  {
   "cell_type": "code",
   "execution_count": 30,
   "metadata": {},
   "outputs": [
    {
     "name": "stderr",
     "output_type": "stream",
     "text": [
      "C:\\Users\\samue\\AppData\\Local\\Temp\\ipykernel_15488\\3324557457.py:1: SettingWithCopyWarning: \n",
      "A value is trying to be set on a copy of a slice from a DataFrame.\n",
      "Try using .loc[row_indexer,col_indexer] = value instead\n",
      "\n",
      "See the caveats in the documentation: https://pandas.pydata.org/pandas-docs/stable/user_guide/indexing.html#returning-a-view-versus-a-copy\n",
      "  df_entradas_100['entidades'] = df_entradas_100['DESCRIPCIONSOLICITUD'].apply(lambda X: [(X.text, X.label_) for X in nlp(X).ents])\n"
     ]
    }
   ],
   "source": [
    "df_entradas_100['entidades'] = df_entradas_100['DESCRIPCIONSOLICITUD'].apply(lambda X: [(X.text, X.label_) for X in nlp(X).ents])\n"
   ]
  },
  {
   "cell_type": "code",
   "execution_count": 31,
   "metadata": {},
   "outputs": [
    {
     "data": {
      "text/html": [
       "<div>\n",
       "<style scoped>\n",
       "    .dataframe tbody tr th:only-of-type {\n",
       "        vertical-align: middle;\n",
       "    }\n",
       "\n",
       "    .dataframe tbody tr th {\n",
       "        vertical-align: top;\n",
       "    }\n",
       "\n",
       "    .dataframe thead th {\n",
       "        text-align: right;\n",
       "    }\n",
       "</style>\n",
       "<table border=\"1\" class=\"dataframe\">\n",
       "  <thead>\n",
       "    <tr style=\"text-align: right;\">\n",
       "      <th></th>\n",
       "      <th>DESCRIPCIONSOLICITUD</th>\n",
       "      <th>entidades</th>\n",
       "    </tr>\n",
       "  </thead>\n",
       "  <tbody>\n",
       "    <tr>\n",
       "      <th>0</th>\n",
       "      <td>Copia de los documentos y los datos con que cuenta PEP respecto al comportamiento histórico de los pozos típicos comprendidos en el Proyecto ATG  estudios científicos y variables que pudieran presentarse  con los que PEMEX Exploración y Producción elaboró la evaluación integral del Proyecto ATG presentada ante la SHCP  incluyendo en forma específica: 1.- La producción de aceite promedio  en barriles de petróleo por pozo  al  principio de cada uno de los  años considerados en la evaluación integral del proyecto ATG; 2.-La declinación anual promedio de petróleo por pozo  usada durante el primer y segundo años de producción; 3.- El precio del petróleo y del gas considerados para  cada año; 4.- Los responsables de la elaboración de la evaluación integral del Proyecto ATG; 5.-  El costo de operación anual promedio de petróleo por pozo  para cada uno de los  años considerados en la evaluación integral del proyecto ATG.</td>\n",
       "      <td>[(PEP, MISC), (Proyecto ATG, MISC), (PEMEX Exploración, ORG), (Producción, PER), (Proyecto ATG, ORG), (SHCP, ORG), (3.- El precio del petróleo, MISC), (año;, MISC), (4.-, MISC), (Proyecto ATG, MISC)]</td>\n",
       "    </tr>\n",
       "    <tr>\n",
       "      <th>1</th>\n",
       "      <td>Del ATG  para precisar información y datos usados en la tabla de flujo de efectivo (TFE) sobre pozo típico de Agua Fría  elaborada para responder a la solicitud con folio 1857500039108  solicito: 1.- La producción de aceite en BD al  principio de cada uno de los 10 años considerados en la tabla; 2.- El costo del capital  usado para que se recuperara la inversión en 7 meses; 3.- El precio del aceite y del gas considerados para  cada año; 4.-  La fórmula usada o explicación detallada de cómo se realizó  la estimación del costo de operación; 5.- La  explicación detallada del origen del incremento en la producción de aceite durante  los años  5   9 y 10.</td>\n",
       "      <td>[(ATG, ORG), (Agua Fría, LOC), (folio 1857500039108, MISC), (BD, ORG), (3.- El precio del aceite, MISC), (año; 4.-, MISC), (5.- La, LOC)]</td>\n",
       "    </tr>\n",
       "    <tr>\n",
       "      <th>2</th>\n",
       "      <td>Agradeceré se me proporcione en archivo magnético y por este medio  la relación de las plazas ocupadas bajo el amparo del artículo 34 de la Ley del Servicio Profesional de Carrera en la Administración Pública Federal de 2004 a 2007  indicando  nombre de la persona contratada  puesto ocupado  vigencia de la contratación  y en su caso  prórroga.</td>\n",
       "      <td>[(Agradeceré, PER), (Ley del Servicio Profesional de Carrera, MISC), (Administración Pública Federal, LOC)]</td>\n",
       "    </tr>\n",
       "    <tr>\n",
       "      <th>3</th>\n",
       "      <td>Agradeceré se me proporcione en archivo magnético y por este medio  la relación de las plazas ocupadas bajo el amparo del artículo 34 de la Ley del Servicio Profesional de Carrera en la Administración Pública Federal de 2004 a 2007  indicando  nombre de la persona contratada  puesto ocupado  vigencia de la contratación  y en su caso  prórroga.</td>\n",
       "      <td>[(Agradeceré, PER), (Ley del Servicio Profesional de Carrera, MISC), (Administración Pública Federal, LOC)]</td>\n",
       "    </tr>\n",
       "    <tr>\n",
       "      <th>4</th>\n",
       "      <td>Agradeceré se me proporcione en archivo magnético y por este medio  la relación de las plazas ocupadas bajo el amparo del artículo 34 de la Ley del Servicio Profesional de Carrera en la Administración Pública Federal de 2004 a 2011  indicando  nombre de la persona contratada  puesto ocupado  vigencia de la contratación  y en su caso  prórroga. Lo anterior debido a que la información que tienen en su portal no indica las vigencias o fechas de los periodos de contratación de cada persona.</td>\n",
       "      <td>[(Agradeceré, PER), (Ley del Servicio Profesional de Carrera, MISC), (Administración Pública Federal, LOC)]</td>\n",
       "    </tr>\n",
       "    <tr>\n",
       "      <th>...</th>\n",
       "      <td>...</td>\n",
       "      <td>...</td>\n",
       "    </tr>\n",
       "    <tr>\n",
       "      <th>95</th>\n",
       "      <td>Solicito atentamente me proporcionen la siguiente información: relación desglosada por número de convenio específico o contrato  Objeto del convenio específico o contrato  plazo de ejecución  vigencia  monto económico asignado  (de haber sido modificado en su vigencia  plazo de ejecución o monto económico especificarlo)  nombre del responsable o representante de cada una de las partes  y fecha de firma de cada uno de los convenios específicos y contratos vigentes y concluidos  firmados con el Instituto Tecnológico Superior de Comalcalco  del 1 de agosto al 31 de diciembre de 2011.</td>\n",
       "      <td>[(Objeto del convenio específico, MISC), (Instituto Tecnológico Superior de Comalcalco, ORG)]</td>\n",
       "    </tr>\n",
       "    <tr>\n",
       "      <th>96</th>\n",
       "      <td>Solicito atentamente me proporcionen la siguiente información: relación desglosada por número de convenio específico o contrato  Objeto del convenio específico o contrato  plazo de ejecución  vigencia  monto económico asignado  (de haber sido modificado en su vigencia  plazo de ejecución o monto económico especificarlo)  nombre del responsable o representante de cada una de las partes  y fecha de firma de cada uno de los convenios específicos y contratos vigentes y concluidos  firmados con el Instituto Tecnológico Superior de Comalcalco  del 1 de agosto al 31 de diciembre de 2011.</td>\n",
       "      <td>[(Objeto del convenio específico, MISC), (Instituto Tecnológico Superior de Comalcalco, ORG)]</td>\n",
       "    </tr>\n",
       "    <tr>\n",
       "      <th>97</th>\n",
       "      <td>Solicito atentamente me proporcionen la siguiente información: relación desglosada por número de convenio específico o contrato  Objeto del convenio específico o contrato  plazo de ejecución  vigencia  monto económico asignado  (de haber sido modificado en su vigencia  plazo de ejecución o monto económico especificarlo)  nombre del responsable o representante de cada una de las partes  y fecha de firma de cada uno de los convenios específicos y contratos vigentes y concluidos  firmados con el Instituto Tecnológico Superior de Centla  del 1 de agosto al 31 de diciembre de 2011.</td>\n",
       "      <td>[(Objeto del convenio específico, MISC), (Instituto Tecnológico Superior de Centla, ORG)]</td>\n",
       "    </tr>\n",
       "    <tr>\n",
       "      <th>98</th>\n",
       "      <td>Solicito atentamente me proporcionen la siguiente información: relación desglosada por número de convenio específico o contrato  Objeto del convenio específico o contrato  plazo de ejecución  vigencia  monto económico asignado  (de haber sido modificado en su vigencia  plazo de ejecución o monto económico especificarlo)  nombre del responsable o representante de cada una de las partes  y fecha de firma de cada uno de los convenios específicos y contratos vigentes y concluidos  firmados con la Universidad Politécnica del Golfo de México  del 1 de agosto al 31 de diciembre de 2011.</td>\n",
       "      <td>[(Objeto del convenio específico, MISC), (Universidad Politécnica del Golfo de México, ORG)]</td>\n",
       "    </tr>\n",
       "    <tr>\n",
       "      <th>99</th>\n",
       "      <td>Solicito atentamente me proporcionen la siguiente información: relación detallada de todas las inversiones realizadas del 1 de enero al 31 de diciembre de 2011  proporcionando el nombre del contratista o proveedor  descripción de la obra o servicio  número de contrato  fecha de formalización  procedimiento de contratación  monto del contrato y domicilio fiscal  de todas las empresas y personas físicas contratadas con domicilio fiscal en el estado de Tabasco  contratadas del 1 de enero al 31 de diciembre de 2011.</td>\n",
       "      <td>[(formalización, PER), (Tabasco, LOC)]</td>\n",
       "    </tr>\n",
       "  </tbody>\n",
       "</table>\n",
       "<p>100 rows × 2 columns</p>\n",
       "</div>"
      ],
      "text/plain": [
       "                                                                                                                                                                                                                                                                                                                                                                                                                                                                                                                                                                                                                                                                                                                                                                                                                                                                                                                                               DESCRIPCIONSOLICITUD  \\\n",
       "0   Copia de los documentos y los datos con que cuenta PEP respecto al comportamiento histórico de los pozos típicos comprendidos en el Proyecto ATG  estudios científicos y variables que pudieran presentarse  con los que PEMEX Exploración y Producción elaboró la evaluación integral del Proyecto ATG presentada ante la SHCP  incluyendo en forma específica: 1.- La producción de aceite promedio  en barriles de petróleo por pozo  al  principio de cada uno de los  años considerados en la evaluación integral del proyecto ATG; 2.-La declinación anual promedio de petróleo por pozo  usada durante el primer y segundo años de producción; 3.- El precio del petróleo y del gas considerados para  cada año; 4.- Los responsables de la elaboración de la evaluación integral del Proyecto ATG; 5.-  El costo de operación anual promedio de petróleo por pozo  para cada uno de los  años considerados en la evaluación integral del proyecto ATG.    \n",
       "1                                                                                                                                                                                                                                                                               Del ATG  para precisar información y datos usados en la tabla de flujo de efectivo (TFE) sobre pozo típico de Agua Fría  elaborada para responder a la solicitud con folio 1857500039108  solicito: 1.- La producción de aceite en BD al  principio de cada uno de los 10 años considerados en la tabla; 2.- El costo del capital  usado para que se recuperara la inversión en 7 meses; 3.- El precio del aceite y del gas considerados para  cada año; 4.-  La fórmula usada o explicación detallada de cómo se realizó  la estimación del costo de operación; 5.- La  explicación detallada del origen del incremento en la producción de aceite durante  los años  5   9 y 10.    \n",
       "2                                                                                                                                                                                                                                                                                                                                                                                                                                                                                                                                                                                                         Agradeceré se me proporcione en archivo magnético y por este medio  la relación de las plazas ocupadas bajo el amparo del artículo 34 de la Ley del Servicio Profesional de Carrera en la Administración Pública Federal de 2004 a 2007  indicando  nombre de la persona contratada  puesto ocupado  vigencia de la contratación  y en su caso  prórroga.   \n",
       "3                                                                                                                                                                                                                                                                                                                                                                                                                                                                                                                                                                                                         Agradeceré se me proporcione en archivo magnético y por este medio  la relación de las plazas ocupadas bajo el amparo del artículo 34 de la Ley del Servicio Profesional de Carrera en la Administración Pública Federal de 2004 a 2007  indicando  nombre de la persona contratada  puesto ocupado  vigencia de la contratación  y en su caso  prórroga.   \n",
       "4                                                                                                                                                                                                                                                                                                                                                                                                                                                      Agradeceré se me proporcione en archivo magnético y por este medio  la relación de las plazas ocupadas bajo el amparo del artículo 34 de la Ley del Servicio Profesional de Carrera en la Administración Pública Federal de 2004 a 2011  indicando  nombre de la persona contratada  puesto ocupado  vigencia de la contratación  y en su caso  prórroga. Lo anterior debido a que la información que tienen en su portal no indica las vigencias o fechas de los periodos de contratación de cada persona.    \n",
       "..                                                                                                                                                                                                                                                                                                                                                                                                                                                                                                                                                                                                                                                                                                                                                                                                                                                                                                                                                              ...   \n",
       "95                                                                                                                                                                                                                                                                                                                                                      Solicito atentamente me proporcionen la siguiente información: relación desglosada por número de convenio específico o contrato  Objeto del convenio específico o contrato  plazo de ejecución  vigencia  monto económico asignado  (de haber sido modificado en su vigencia  plazo de ejecución o monto económico especificarlo)  nombre del responsable o representante de cada una de las partes  y fecha de firma de cada uno de los convenios específicos y contratos vigentes y concluidos  firmados con el Instituto Tecnológico Superior de Comalcalco  del 1 de agosto al 31 de diciembre de 2011.   \n",
       "96                                                                                                                                                                                                                                                                                                                                                      Solicito atentamente me proporcionen la siguiente información: relación desglosada por número de convenio específico o contrato  Objeto del convenio específico o contrato  plazo de ejecución  vigencia  monto económico asignado  (de haber sido modificado en su vigencia  plazo de ejecución o monto económico especificarlo)  nombre del responsable o representante de cada una de las partes  y fecha de firma de cada uno de los convenios específicos y contratos vigentes y concluidos  firmados con el Instituto Tecnológico Superior de Comalcalco  del 1 de agosto al 31 de diciembre de 2011.   \n",
       "97                                                                                                                                                                                                                                                                                                                                                          Solicito atentamente me proporcionen la siguiente información: relación desglosada por número de convenio específico o contrato  Objeto del convenio específico o contrato  plazo de ejecución  vigencia  monto económico asignado  (de haber sido modificado en su vigencia  plazo de ejecución o monto económico especificarlo)  nombre del responsable o representante de cada una de las partes  y fecha de firma de cada uno de los convenios específicos y contratos vigentes y concluidos  firmados con el Instituto Tecnológico Superior de Centla  del 1 de agosto al 31 de diciembre de 2011.   \n",
       "98                                                                                                                                                                                                                                                                                                                                                       Solicito atentamente me proporcionen la siguiente información: relación desglosada por número de convenio específico o contrato  Objeto del convenio específico o contrato  plazo de ejecución  vigencia  monto económico asignado  (de haber sido modificado en su vigencia  plazo de ejecución o monto económico especificarlo)  nombre del responsable o representante de cada una de las partes  y fecha de firma de cada uno de los convenios específicos y contratos vigentes y concluidos  firmados con la Universidad Politécnica del Golfo de México  del 1 de agosto al 31 de diciembre de 2011.   \n",
       "99                                                                                                                                                                                                                                                                                                                                                                                                                            Solicito atentamente me proporcionen la siguiente información: relación detallada de todas las inversiones realizadas del 1 de enero al 31 de diciembre de 2011  proporcionando el nombre del contratista o proveedor  descripción de la obra o servicio  número de contrato  fecha de formalización  procedimiento de contratación  monto del contrato y domicilio fiscal  de todas las empresas y personas físicas contratadas con domicilio fiscal en el estado de Tabasco  contratadas del 1 de enero al 31 de diciembre de 2011.   \n",
       "\n",
       "                                                                                                                                                                                                  entidades  \n",
       "0   [(PEP, MISC), (Proyecto ATG, MISC), (PEMEX Exploración, ORG), (Producción, PER), (Proyecto ATG, ORG), (SHCP, ORG), (3.- El precio del petróleo, MISC), (año;, MISC), (4.-, MISC), (Proyecto ATG, MISC)]  \n",
       "1                                                                 [(ATG, ORG), (Agua Fría, LOC), (folio 1857500039108, MISC), (BD, ORG), (3.- El precio del aceite, MISC), (año; 4.-, MISC), (5.- La, LOC)]  \n",
       "2                                                                                               [(Agradeceré, PER), (Ley del Servicio Profesional de Carrera, MISC), (Administración Pública Federal, LOC)]  \n",
       "3                                                                                               [(Agradeceré, PER), (Ley del Servicio Profesional de Carrera, MISC), (Administración Pública Federal, LOC)]  \n",
       "4                                                                                               [(Agradeceré, PER), (Ley del Servicio Profesional de Carrera, MISC), (Administración Pública Federal, LOC)]  \n",
       "..                                                                                                                                                                                                      ...  \n",
       "95                                                                                                            [(Objeto del convenio específico, MISC), (Instituto Tecnológico Superior de Comalcalco, ORG)]  \n",
       "96                                                                                                            [(Objeto del convenio específico, MISC), (Instituto Tecnológico Superior de Comalcalco, ORG)]  \n",
       "97                                                                                                                [(Objeto del convenio específico, MISC), (Instituto Tecnológico Superior de Centla, ORG)]  \n",
       "98                                                                                                             [(Objeto del convenio específico, MISC), (Universidad Politécnica del Golfo de México, ORG)]  \n",
       "99                                                                                                                                                                   [(formalización, PER), (Tabasco, LOC)]  \n",
       "\n",
       "[100 rows x 2 columns]"
      ]
     },
     "execution_count": 31,
     "metadata": {},
     "output_type": "execute_result"
    }
   ],
   "source": [
    "df_entradas_100"
   ]
  },
  {
   "cell_type": "code",
   "execution_count": 25,
   "metadata": {},
   "outputs": [],
   "source": [
    "a= nlp(\"Juan Perez y Juliana\").ents"
   ]
  },
  {
   "cell_type": "code",
   "execution_count": 27,
   "metadata": {},
   "outputs": [
    {
     "data": {
      "text/plain": [
       "'Juan Perez'"
      ]
     },
     "execution_count": 27,
     "metadata": {},
     "output_type": "execute_result"
    }
   ],
   "source": [
    "a[0].text"
   ]
  }
 ],
 "metadata": {
  "kernelspec": {
   "display_name": "Python 3.10.8 ('cdas_o22')",
   "language": "python",
   "name": "python3"
  },
  "language_info": {
   "codemirror_mode": {
    "name": "ipython",
    "version": 3
   },
   "file_extension": ".py",
   "mimetype": "text/x-python",
   "name": "python",
   "nbconvert_exporter": "python",
   "pygments_lexer": "ipython3",
   "version": "3.10.8 | packaged by conda-forge | (main, Nov 24 2022, 14:07:00) [MSC v.1916 64 bit (AMD64)]"
  },
  "orig_nbformat": 4,
  "vscode": {
   "interpreter": {
    "hash": "9d39c667323fb0b0bc1a91a50793772bfde26a5b0af7b5e6bc375d64e532dc23"
   }
  }
 },
 "nbformat": 4,
 "nbformat_minor": 2
}
