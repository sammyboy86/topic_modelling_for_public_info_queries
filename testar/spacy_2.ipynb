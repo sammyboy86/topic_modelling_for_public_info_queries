{
 "cells": [
  {
   "cell_type": "code",
   "execution_count": 1,
   "metadata": {},
   "outputs": [
    {
     "name": "stderr",
     "output_type": "stream",
     "text": [
      "c:\\Users\\samue\\anaconda3\\envs\\cdas_o22\\lib\\site-packages\\tqdm\\auto.py:22: TqdmWarning: IProgress not found. Please update jupyter and ipywidgets. See https://ipywidgets.readthedocs.io/en/stable/user_install.html\n",
      "  from .autonotebook import tqdm as notebook_tqdm\n"
     ]
    }
   ],
   "source": [
    "import spacy\n",
    "import es_dep_news_trf\n",
    "import pandas as pd\n",
    "import re\n",
    "import time\n",
    "\n",
    "pd.set_option('display.max_colwidth', None)\n",
    "pd.options.mode.chained_assignment = None  # default='warn'\n"
   ]
  },
  {
   "cell_type": "code",
   "execution_count": 2,
   "metadata": {},
   "outputs": [],
   "source": [
    "nlp = spacy.load(\"es_dep_news_trf\")\n",
    "nlp = es_dep_news_trf.load()"
   ]
  },
  {
   "cell_type": "code",
   "execution_count": 3,
   "metadata": {},
   "outputs": [],
   "source": [
    "df_entradas=pd.read_feather('../data/solicitudes.feather') # cargar base#\n",
    "#df_entradas=pd.read_csv('../data/Prueba 1 ITAM.csv')"
   ]
  },
  {
   "cell_type": "code",
   "execution_count": 4,
   "metadata": {},
   "outputs": [],
   "source": [
    "\n",
    "columna_interes= \"DESCRIPCIONSOLICITUD\"\n",
    "#columna_interes= \"Descripción\"\n",
    "num_entradas = 10000\n",
    "#num_entradas = df_entradas.shape[0]\n",
    "df_entradas_100 = df_entradas.loc[0:(num_entradas-1), [columna_interes]]\n",
    "\n",
    "num_palabras = sum([len(texto.split()) for texto in df_entradas_100[columna_interes]])\n",
    "tamanio_archivo = df_entradas_100.memory_usage(deep=True).sum()\n"
   ]
  },
  {
   "cell_type": "code",
   "execution_count": 5,
   "metadata": {},
   "outputs": [],
   "source": [
    "#%% reemplazamos las palabras de regex por #####\n",
    "def testar_regex(texto):\n",
    "\n",
    "    #correo electronico\n",
    "    regex=re.sub(\"([a-zA-Z0-9._-]+@[a-zA-Z0-9._-]+\\.[a-zA-Z0-9_-]+)\", '#####', texto)\n",
    "\n",
    "    #clave de elector\n",
    "    regex=re.sub(\"[A-Z]{6}[0-9]{6,}(H|M)[0-9]{3}\", '#####', regex)\n",
    "\n",
    "    #curp\n",
    "    regex=re.sub(\"[A-Z]{4}[0-9]{6}[A-Z]{6}([A-Z][0-9]|0[0-9])\", '#####', regex)\n",
    "\n",
    "    #RFC\n",
    "    regex=re.sub(\"[A-Z,Ñ,&]{3,4}([0-9]{2})(0[1-9]|1[0-2])(0[1-9]|1[0-9]|2[0-9]|3[0-1])[A-Z|\\d]{3}\", '#####', regex)\n",
    "\n",
    "    #numero cartilla militar\n",
    "    regex=re.sub(\"(A|B|C)([0-9]{7,8}|\\-[0-9]{7,8})\", '#####', regex)\n",
    "\n",
    "    #numero tel\n",
    "    regex=re.sub(\"[0-9]{8,}|[0-9]{3} [0-9]{7}|[0-9]{2,3}(\\-|.)[0-9]{4}(\\-|.)[0-9]{4}\", '#####', regex)\n",
    "\n",
    "    return regex"
   ]
  },
  {
   "cell_type": "code",
   "execution_count": 6,
   "metadata": {},
   "outputs": [],
   "source": [
    "startTime = time.time() \n",
    "df_entradas_100[columna_interes] = df_entradas_100[columna_interes].apply(lambda x: testar_regex(x))"
   ]
  },
  {
   "cell_type": "code",
   "execution_count": 7,
   "metadata": {},
   "outputs": [],
   "source": [
    "df_entradas_100['entidades'] = df_entradas_100[columna_interes].apply(lambda X: nlp(X))"
   ]
  },
  {
   "cell_type": "code",
   "execution_count": 8,
   "metadata": {},
   "outputs": [],
   "source": [
    "df_entradas_100['entidades'] = df_entradas_100['entidades'].apply(lambda X: [(entidad.text, entidad.pos_) for entidad in X])\n"
   ]
  },
  {
   "cell_type": "code",
   "execution_count": 9,
   "metadata": {},
   "outputs": [],
   "source": [
    "df_entradas_100['testado'] = df_entradas_100['entidades'].apply(lambda x: [pair[0] if pair[1]!=\"PROPN\" else \"####\" for pair in x])\n",
    "endTime = time.time()"
   ]
  },
  {
   "cell_type": "code",
   "execution_count": 10,
   "metadata": {},
   "outputs": [
    {
     "data": {
      "text/html": [
       "<div>\n",
       "<style scoped>\n",
       "    .dataframe tbody tr th:only-of-type {\n",
       "        vertical-align: middle;\n",
       "    }\n",
       "\n",
       "    .dataframe tbody tr th {\n",
       "        vertical-align: top;\n",
       "    }\n",
       "\n",
       "    .dataframe thead th {\n",
       "        text-align: right;\n",
       "    }\n",
       "</style>\n",
       "<table border=\"1\" class=\"dataframe\">\n",
       "  <thead>\n",
       "    <tr style=\"text-align: right;\">\n",
       "      <th></th>\n",
       "      <th>DESCRIPCIONSOLICITUD</th>\n",
       "      <th>entidades</th>\n",
       "      <th>testado</th>\n",
       "    </tr>\n",
       "  </thead>\n",
       "  <tbody>\n",
       "    <tr>\n",
       "      <th>0</th>\n",
       "      <td>Copia de los documentos y los datos con que cuenta PEP respecto al comportamiento histórico de los pozos típicos comprendidos en el Proyecto ATG  estudios científicos y variables que pudieran presentarse  con los que PEMEX Exploración y Producción elaboró la evaluación integral del Proyecto ATG presentada ante la SHCP  incluyendo en forma específica: 1.- La producción de aceite promedio  en barriles de petróleo por pozo  al  principio de cada uno de los  años considerados en la evaluación integral del proyecto ATG; 2.-La declinación anual promedio de petróleo por pozo  usada durante el primer y segundo años de producción; 3.- El precio del petróleo y del gas considerados para  cada año; 4.- Los responsables de la elaboración de la evaluación integral del Proyecto ATG; 5.-  El costo de operación anual promedio de petróleo por pozo  para cada uno de los  años considerados en la evaluación integral del proyecto ATG.</td>\n",
       "      <td>[(Copia, NOUN), (de, ADP), (los, DET), (documentos, NOUN), (y, CCONJ), (los, DET), (datos, NOUN), (con, ADP), (que, PRON), (cuenta, VERB), (PEP, PROPN), (respecto, NOUN), (al, DET), (comportamiento, NOUN), (histórico, ADJ), (de, ADP), (los, DET), (pozos, NOUN), (típicos, ADJ), (comprendidos, ADJ), (en, ADP), (el, DET), (Proyecto, PROPN), (ATG, PROPN), ( , SPACE), (estudios, NOUN), (científicos, ADJ), (y, CCONJ), (variables, NOUN), (que, PRON), (pudieran, AUX), (presentarse, VERB), ( , SPACE), (con, ADP), (los, DET), (que, PRON), (PEMEX, PROPN), (Exploración, PROPN), (y, CCONJ), (Producción, PROPN), (elaboró, VERB), (la, DET), (evaluación, NOUN), (integral, ADJ), (del, ADP), (Proyecto, PROPN), (ATG, PROPN), (presentada, ADJ), (ante, ADP), (la, DET), (SHCP, PROPN), ( , SPACE), (incluyendo, VERB), (en, ADP), (forma, NOUN), (específica, ADJ), (:, PUNCT), (1.-, PUNCT), (La, DET), (producción, NOUN), (de, ADP), (aceite, NOUN), (promedio, NOUN), ( , SPACE), (en, ADP), (barriles, NOUN), (de, ADP), (petróleo, NOUN), (por, ADP), (pozo, NOUN), ( , SPACE), (al, ADP), ( , SPACE), (principio, NOUN), (de, ADP), (cada, DET), (uno, PRON), (de, ADP), (los, DET), ( , SPACE), (años, NOUN), (considerados, ADJ), (en, ADP), (la, DET), (evaluación, NOUN), (integral, ADJ), (del, ADP), (proyecto, NOUN), (ATG, PROPN), (;, PUNCT), (2.-La, DET), (declinación, NOUN), (anual, ADJ), (promedio, NOUN), (de, ADP), (petróleo, NOUN), (por, ADP), (pozo, NOUN), ( , SPACE), (usada, ADJ), ...]</td>\n",
       "      <td>[Copia, de, los, documentos, y, los, datos, con, que, cuenta, ####, respecto, al, comportamiento, histórico, de, los, pozos, típicos, comprendidos, en, el, ####, ####,  , estudios, científicos, y, variables, que, pudieran, presentarse,  , con, los, que, ####, ####, y, ####, elaboró, la, evaluación, integral, del, ####, ####, presentada, ante, la, ####,  , incluyendo, en, forma, específica, :, 1.-, La, producción, de, aceite, promedio,  , en, barriles, de, petróleo, por, pozo,  , al,  , principio, de, cada, uno, de, los,  , años, considerados, en, la, evaluación, integral, del, proyecto, ####, ;, 2.-La, declinación, anual, promedio, de, petróleo, por, pozo,  , usada, ...]</td>\n",
       "    </tr>\n",
       "    <tr>\n",
       "      <th>1</th>\n",
       "      <td>Del ATG  para precisar información y datos usados en la tabla de flujo de efectivo (TFE) sobre pozo típico de Agua Fría  elaborada para responder a la solicitud con folio #####  solicito: 1.- La producción de aceite en BD al  principio de cada uno de los 10 años considerados en la tabla; 2.- El costo del capital  usado para que se recuperara la inversión en 7 meses; 3.- El precio del aceite y del gas considerados para  cada año; 4.-  La fórmula usada o explicación detallada de cómo se realizó  la estimación del costo de operación; 5.- La  explicación detallada del origen del incremento en la producción de aceite durante  los años  5   9 y 10.</td>\n",
       "      <td>[(Del, ADP), (ATG, PROPN), ( , SPACE), (para, ADP), (precisar, VERB), (información, NOUN), (y, CCONJ), (datos, NOUN), (usados, ADJ), (en, ADP), (la, DET), (tabla, NOUN), (de, ADP), (flujo, NOUN), (de, ADP), (efectivo, NOUN), ((, PUNCT), (TFE, PROPN), (), PUNCT), (sobre, ADP), (pozo, NOUN), (típico, ADJ), (de, ADP), (Agua, PROPN), (Fría, PROPN), ( , SPACE), (elaborada, ADJ), (para, ADP), (responder, VERB), (a, ADP), (la, DET), (solicitud, NOUN), (con, ADP), (folio, NOUN), (#, PROPN), (#, NOUN), (#, NOUN), (#, PROPN), (#, PROPN), ( , SPACE), (solicito, VERB), (:, PUNCT), (1.-, PUNCT), (La, DET), (producción, NOUN), (de, ADP), (aceite, NOUN), (en, ADP), (BD, PROPN), (al, ADP), ( , SPACE), (principio, NOUN), (de, ADP), (cada, DET), (uno, PRON), (de, ADP), (los, DET), (10, NUM), (años, NOUN), (considerados, ADJ), (en, ADP), (la, DET), (tabla, NOUN), (;, PUNCT), (2.-, PUNCT), (El, DET), (costo, NOUN), (del, ADP), (capital, NOUN), ( , SPACE), (usado, ADJ), (para, ADP), (que, SCONJ), (se, PRON), (recuperara, VERB), (la, DET), (inversión, NOUN), (en, ADP), (7, NUM), (meses, NOUN), (;, PUNCT), (3.-, PUNCT), (El, DET), (precio, NOUN), (del, ADP), (aceite, NOUN), (y, CCONJ), (del, ADP), (gas, NOUN), (considerados, ADJ), (para, ADP), ( , SPACE), (cada, DET), (año, NOUN), (;, PUNCT), (4.-, PUNCT), ( , SPACE), (La, DET), (fórmula, NOUN), (usada, ADJ), ...]</td>\n",
       "      <td>[Del, ####,  , para, precisar, información, y, datos, usados, en, la, tabla, de, flujo, de, efectivo, (, ####, ), sobre, pozo, típico, de, ####, ####,  , elaborada, para, responder, a, la, solicitud, con, folio, ####, #, #, ####, ####,  , solicito, :, 1.-, La, producción, de, aceite, en, ####, al,  , principio, de, cada, uno, de, los, 10, años, considerados, en, la, tabla, ;, 2.-, El, costo, del, capital,  , usado, para, que, se, recuperara, la, inversión, en, 7, meses, ;, 3.-, El, precio, del, aceite, y, del, gas, considerados, para,  , cada, año, ;, 4.-,  , La, fórmula, usada, ...]</td>\n",
       "    </tr>\n",
       "    <tr>\n",
       "      <th>2</th>\n",
       "      <td>Agradeceré se me proporcione en archivo magnético y por este medio  la relación de las plazas ocupadas bajo el amparo del artículo 34 de la Ley del Servicio Profesional de Carrera en la Administración Pública Federal de 2004 a 2007  indicando  nombre de la persona contratada  puesto ocupado  vigencia de la contratación  y en su caso  prórroga.</td>\n",
       "      <td>[(Agradeceré, VERB), (se, PRON), (me, PRON), (proporcione, VERB), (en, ADP), (archivo, NOUN), (magnético, ADJ), (y, CCONJ), (por, ADP), (este, DET), (medio, NOUN), ( , SPACE), (la, DET), (relación, NOUN), (de, ADP), (las, DET), (plazas, NOUN), (ocupadas, ADJ), (bajo, ADP), (el, DET), (amparo, NOUN), (del, ADP), (artículo, NOUN), (34, NUM), (de, ADP), (la, DET), (Ley, PROPN), (del, ADP), (Servicio, PROPN), (Profesional, PROPN), (de, ADP), (Carrera, PROPN), (en, ADP), (la, DET), (Administración, PROPN), (Pública, PROPN), (Federal, PROPN), (de, ADP), (2004, NOUN), (a, ADP), (2007, NUM), ( , SPACE), (indicando, VERB), ( , SPACE), (nombre, NOUN), (de, ADP), (la, DET), (persona, NOUN), (contratada, ADJ), ( , SPACE), (puesto, NOUN), (ocupado, ADJ), ( , SPACE), (vigencia, NOUN), (de, ADP), (la, DET), (contratación, NOUN), ( , SPACE), (y, CCONJ), (en, ADP), (su, DET), (caso, NOUN), ( , SPACE), (prórroga, NOUN), (., PUNCT)]</td>\n",
       "      <td>[Agradeceré, se, me, proporcione, en, archivo, magnético, y, por, este, medio,  , la, relación, de, las, plazas, ocupadas, bajo, el, amparo, del, artículo, 34, de, la, ####, del, ####, ####, de, ####, en, la, ####, ####, ####, de, 2004, a, 2007,  , indicando,  , nombre, de, la, persona, contratada,  , puesto, ocupado,  , vigencia, de, la, contratación,  , y, en, su, caso,  , prórroga, .]</td>\n",
       "    </tr>\n",
       "    <tr>\n",
       "      <th>3</th>\n",
       "      <td>Agradeceré se me proporcione en archivo magnético y por este medio  la relación de las plazas ocupadas bajo el amparo del artículo 34 de la Ley del Servicio Profesional de Carrera en la Administración Pública Federal de 2004 a 2007  indicando  nombre de la persona contratada  puesto ocupado  vigencia de la contratación  y en su caso  prórroga.</td>\n",
       "      <td>[(Agradeceré, VERB), (se, PRON), (me, PRON), (proporcione, VERB), (en, ADP), (archivo, NOUN), (magnético, ADJ), (y, CCONJ), (por, ADP), (este, DET), (medio, NOUN), ( , SPACE), (la, DET), (relación, NOUN), (de, ADP), (las, DET), (plazas, NOUN), (ocupadas, ADJ), (bajo, ADP), (el, DET), (amparo, NOUN), (del, ADP), (artículo, NOUN), (34, NUM), (de, ADP), (la, DET), (Ley, PROPN), (del, ADP), (Servicio, PROPN), (Profesional, PROPN), (de, ADP), (Carrera, PROPN), (en, ADP), (la, DET), (Administración, PROPN), (Pública, PROPN), (Federal, PROPN), (de, ADP), (2004, NOUN), (a, ADP), (2007, NUM), ( , SPACE), (indicando, VERB), ( , SPACE), (nombre, NOUN), (de, ADP), (la, DET), (persona, NOUN), (contratada, ADJ), ( , SPACE), (puesto, NOUN), (ocupado, ADJ), ( , SPACE), (vigencia, NOUN), (de, ADP), (la, DET), (contratación, NOUN), ( , SPACE), (y, CCONJ), (en, ADP), (su, DET), (caso, NOUN), ( , SPACE), (prórroga, NOUN), (., PUNCT)]</td>\n",
       "      <td>[Agradeceré, se, me, proporcione, en, archivo, magnético, y, por, este, medio,  , la, relación, de, las, plazas, ocupadas, bajo, el, amparo, del, artículo, 34, de, la, ####, del, ####, ####, de, ####, en, la, ####, ####, ####, de, 2004, a, 2007,  , indicando,  , nombre, de, la, persona, contratada,  , puesto, ocupado,  , vigencia, de, la, contratación,  , y, en, su, caso,  , prórroga, .]</td>\n",
       "    </tr>\n",
       "    <tr>\n",
       "      <th>4</th>\n",
       "      <td>Agradeceré se me proporcione en archivo magnético y por este medio  la relación de las plazas ocupadas bajo el amparo del artículo 34 de la Ley del Servicio Profesional de Carrera en la Administración Pública Federal de 2004 a 2011  indicando  nombre de la persona contratada  puesto ocupado  vigencia de la contratación  y en su caso  prórroga. Lo anterior debido a que la información que tienen en su portal no indica las vigencias o fechas de los periodos de contratación de cada persona.</td>\n",
       "      <td>[(Agradeceré, VERB), (se, PRON), (me, PRON), (proporcione, VERB), (en, ADP), (archivo, NOUN), (magnético, ADJ), (y, CCONJ), (por, ADP), (este, DET), (medio, NOUN), ( , SPACE), (la, DET), (relación, NOUN), (de, ADP), (las, DET), (plazas, NOUN), (ocupadas, ADJ), (bajo, ADP), (el, DET), (amparo, NOUN), (del, ADP), (artículo, NOUN), (34, NUM), (de, ADP), (la, DET), (Ley, PROPN), (del, ADP), (Servicio, PROPN), (Profesional, PROPN), (de, ADP), (Carrera, PROPN), (en, ADP), (la, DET), (Administración, PROPN), (Pública, PROPN), (Federal, PROPN), (de, ADP), (2004, NOUN), (a, ADP), (2011, NOUN), ( , SPACE), (indicando, VERB), ( , SPACE), (nombre, NOUN), (de, ADP), (la, DET), (persona, NOUN), (contratada, ADJ), ( , SPACE), (puesto, NOUN), (ocupado, ADJ), ( , SPACE), (vigencia, NOUN), (de, ADP), (la, DET), (contratación, NOUN), ( , SPACE), (y, CCONJ), (en, ADP), (su, DET), (caso, NOUN), ( , SPACE), (prórroga, NOUN), (., PUNCT), (Lo, PRON), (anterior, ADJ), (debido, ADJ), (a, ADP), (que, SCONJ), (la, DET), (información, NOUN), (que, PRON), (tienen, VERB), (en, ADP), (su, DET), (portal, NOUN), (no, ADV), (indica, VERB), (las, DET), (vigencias, NOUN), (o, CCONJ), (fechas, NOUN), (de, ADP), (los, DET), (periodos, NOUN), (de, ADP), (contratación, NOUN), (de, ADP), (cada, DET), (persona, NOUN), (., PUNCT)]</td>\n",
       "      <td>[Agradeceré, se, me, proporcione, en, archivo, magnético, y, por, este, medio,  , la, relación, de, las, plazas, ocupadas, bajo, el, amparo, del, artículo, 34, de, la, ####, del, ####, ####, de, ####, en, la, ####, ####, ####, de, 2004, a, 2011,  , indicando,  , nombre, de, la, persona, contratada,  , puesto, ocupado,  , vigencia, de, la, contratación,  , y, en, su, caso,  , prórroga, ., Lo, anterior, debido, a, que, la, información, que, tienen, en, su, portal, no, indica, las, vigencias, o, fechas, de, los, periodos, de, contratación, de, cada, persona, .]</td>\n",
       "    </tr>\n",
       "  </tbody>\n",
       "</table>\n",
       "</div>"
      ],
      "text/plain": [
       "                                                                                                                                                                                                                                                                                                                                                                                                                                                                                                                                                                                                                                                                                                                                                                                                                                                                                                                                              DESCRIPCIONSOLICITUD  \\\n",
       "0  Copia de los documentos y los datos con que cuenta PEP respecto al comportamiento histórico de los pozos típicos comprendidos en el Proyecto ATG  estudios científicos y variables que pudieran presentarse  con los que PEMEX Exploración y Producción elaboró la evaluación integral del Proyecto ATG presentada ante la SHCP  incluyendo en forma específica: 1.- La producción de aceite promedio  en barriles de petróleo por pozo  al  principio de cada uno de los  años considerados en la evaluación integral del proyecto ATG; 2.-La declinación anual promedio de petróleo por pozo  usada durante el primer y segundo años de producción; 3.- El precio del petróleo y del gas considerados para  cada año; 4.- Los responsables de la elaboración de la evaluación integral del Proyecto ATG; 5.-  El costo de operación anual promedio de petróleo por pozo  para cada uno de los  años considerados en la evaluación integral del proyecto ATG.    \n",
       "1                                                                                                                                                                                                                                                                                      Del ATG  para precisar información y datos usados en la tabla de flujo de efectivo (TFE) sobre pozo típico de Agua Fría  elaborada para responder a la solicitud con folio #####  solicito: 1.- La producción de aceite en BD al  principio de cada uno de los 10 años considerados en la tabla; 2.- El costo del capital  usado para que se recuperara la inversión en 7 meses; 3.- El precio del aceite y del gas considerados para  cada año; 4.-  La fórmula usada o explicación detallada de cómo se realizó  la estimación del costo de operación; 5.- La  explicación detallada del origen del incremento en la producción de aceite durante  los años  5   9 y 10.    \n",
       "2                                                                                                                                                                                                                                                                                                                                                                                                                                                                                                                                                                                                        Agradeceré se me proporcione en archivo magnético y por este medio  la relación de las plazas ocupadas bajo el amparo del artículo 34 de la Ley del Servicio Profesional de Carrera en la Administración Pública Federal de 2004 a 2007  indicando  nombre de la persona contratada  puesto ocupado  vigencia de la contratación  y en su caso  prórroga.   \n",
       "3                                                                                                                                                                                                                                                                                                                                                                                                                                                                                                                                                                                                        Agradeceré se me proporcione en archivo magnético y por este medio  la relación de las plazas ocupadas bajo el amparo del artículo 34 de la Ley del Servicio Profesional de Carrera en la Administración Pública Federal de 2004 a 2007  indicando  nombre de la persona contratada  puesto ocupado  vigencia de la contratación  y en su caso  prórroga.   \n",
       "4                                                                                                                                                                                                                                                                                                                                                                                                                                                     Agradeceré se me proporcione en archivo magnético y por este medio  la relación de las plazas ocupadas bajo el amparo del artículo 34 de la Ley del Servicio Profesional de Carrera en la Administración Pública Federal de 2004 a 2011  indicando  nombre de la persona contratada  puesto ocupado  vigencia de la contratación  y en su caso  prórroga. Lo anterior debido a que la información que tienen en su portal no indica las vigencias o fechas de los periodos de contratación de cada persona.    \n",
       "\n",
       "                                                                                                                                                                                                                                                                                                                                                                                                                                                                                                                                                                                                                                                                                                                                                                                                                                                                                                                                                                                                                                                                                                                                                                                                                                                                                                                                                                                                                                                                                                                               entidades  \\\n",
       "0  [(Copia, NOUN), (de, ADP), (los, DET), (documentos, NOUN), (y, CCONJ), (los, DET), (datos, NOUN), (con, ADP), (que, PRON), (cuenta, VERB), (PEP, PROPN), (respecto, NOUN), (al, DET), (comportamiento, NOUN), (histórico, ADJ), (de, ADP), (los, DET), (pozos, NOUN), (típicos, ADJ), (comprendidos, ADJ), (en, ADP), (el, DET), (Proyecto, PROPN), (ATG, PROPN), ( , SPACE), (estudios, NOUN), (científicos, ADJ), (y, CCONJ), (variables, NOUN), (que, PRON), (pudieran, AUX), (presentarse, VERB), ( , SPACE), (con, ADP), (los, DET), (que, PRON), (PEMEX, PROPN), (Exploración, PROPN), (y, CCONJ), (Producción, PROPN), (elaboró, VERB), (la, DET), (evaluación, NOUN), (integral, ADJ), (del, ADP), (Proyecto, PROPN), (ATG, PROPN), (presentada, ADJ), (ante, ADP), (la, DET), (SHCP, PROPN), ( , SPACE), (incluyendo, VERB), (en, ADP), (forma, NOUN), (específica, ADJ), (:, PUNCT), (1.-, PUNCT), (La, DET), (producción, NOUN), (de, ADP), (aceite, NOUN), (promedio, NOUN), ( , SPACE), (en, ADP), (barriles, NOUN), (de, ADP), (petróleo, NOUN), (por, ADP), (pozo, NOUN), ( , SPACE), (al, ADP), ( , SPACE), (principio, NOUN), (de, ADP), (cada, DET), (uno, PRON), (de, ADP), (los, DET), ( , SPACE), (años, NOUN), (considerados, ADJ), (en, ADP), (la, DET), (evaluación, NOUN), (integral, ADJ), (del, ADP), (proyecto, NOUN), (ATG, PROPN), (;, PUNCT), (2.-La, DET), (declinación, NOUN), (anual, ADJ), (promedio, NOUN), (de, ADP), (petróleo, NOUN), (por, ADP), (pozo, NOUN), ( , SPACE), (usada, ADJ), ...]   \n",
       "1                                                                                                                    [(Del, ADP), (ATG, PROPN), ( , SPACE), (para, ADP), (precisar, VERB), (información, NOUN), (y, CCONJ), (datos, NOUN), (usados, ADJ), (en, ADP), (la, DET), (tabla, NOUN), (de, ADP), (flujo, NOUN), (de, ADP), (efectivo, NOUN), ((, PUNCT), (TFE, PROPN), (), PUNCT), (sobre, ADP), (pozo, NOUN), (típico, ADJ), (de, ADP), (Agua, PROPN), (Fría, PROPN), ( , SPACE), (elaborada, ADJ), (para, ADP), (responder, VERB), (a, ADP), (la, DET), (solicitud, NOUN), (con, ADP), (folio, NOUN), (#, PROPN), (#, NOUN), (#, NOUN), (#, PROPN), (#, PROPN), ( , SPACE), (solicito, VERB), (:, PUNCT), (1.-, PUNCT), (La, DET), (producción, NOUN), (de, ADP), (aceite, NOUN), (en, ADP), (BD, PROPN), (al, ADP), ( , SPACE), (principio, NOUN), (de, ADP), (cada, DET), (uno, PRON), (de, ADP), (los, DET), (10, NUM), (años, NOUN), (considerados, ADJ), (en, ADP), (la, DET), (tabla, NOUN), (;, PUNCT), (2.-, PUNCT), (El, DET), (costo, NOUN), (del, ADP), (capital, NOUN), ( , SPACE), (usado, ADJ), (para, ADP), (que, SCONJ), (se, PRON), (recuperara, VERB), (la, DET), (inversión, NOUN), (en, ADP), (7, NUM), (meses, NOUN), (;, PUNCT), (3.-, PUNCT), (El, DET), (precio, NOUN), (del, ADP), (aceite, NOUN), (y, CCONJ), (del, ADP), (gas, NOUN), (considerados, ADJ), (para, ADP), ( , SPACE), (cada, DET), (año, NOUN), (;, PUNCT), (4.-, PUNCT), ( , SPACE), (La, DET), (fórmula, NOUN), (usada, ADJ), ...]   \n",
       "2                                                                                                                                                                                                                                                                                                                                                                                                                                                                                                                                                                        [(Agradeceré, VERB), (se, PRON), (me, PRON), (proporcione, VERB), (en, ADP), (archivo, NOUN), (magnético, ADJ), (y, CCONJ), (por, ADP), (este, DET), (medio, NOUN), ( , SPACE), (la, DET), (relación, NOUN), (de, ADP), (las, DET), (plazas, NOUN), (ocupadas, ADJ), (bajo, ADP), (el, DET), (amparo, NOUN), (del, ADP), (artículo, NOUN), (34, NUM), (de, ADP), (la, DET), (Ley, PROPN), (del, ADP), (Servicio, PROPN), (Profesional, PROPN), (de, ADP), (Carrera, PROPN), (en, ADP), (la, DET), (Administración, PROPN), (Pública, PROPN), (Federal, PROPN), (de, ADP), (2004, NOUN), (a, ADP), (2007, NUM), ( , SPACE), (indicando, VERB), ( , SPACE), (nombre, NOUN), (de, ADP), (la, DET), (persona, NOUN), (contratada, ADJ), ( , SPACE), (puesto, NOUN), (ocupado, ADJ), ( , SPACE), (vigencia, NOUN), (de, ADP), (la, DET), (contratación, NOUN), ( , SPACE), (y, CCONJ), (en, ADP), (su, DET), (caso, NOUN), ( , SPACE), (prórroga, NOUN), (., PUNCT)]   \n",
       "3                                                                                                                                                                                                                                                                                                                                                                                                                                                                                                                                                                        [(Agradeceré, VERB), (se, PRON), (me, PRON), (proporcione, VERB), (en, ADP), (archivo, NOUN), (magnético, ADJ), (y, CCONJ), (por, ADP), (este, DET), (medio, NOUN), ( , SPACE), (la, DET), (relación, NOUN), (de, ADP), (las, DET), (plazas, NOUN), (ocupadas, ADJ), (bajo, ADP), (el, DET), (amparo, NOUN), (del, ADP), (artículo, NOUN), (34, NUM), (de, ADP), (la, DET), (Ley, PROPN), (del, ADP), (Servicio, PROPN), (Profesional, PROPN), (de, ADP), (Carrera, PROPN), (en, ADP), (la, DET), (Administración, PROPN), (Pública, PROPN), (Federal, PROPN), (de, ADP), (2004, NOUN), (a, ADP), (2007, NUM), ( , SPACE), (indicando, VERB), ( , SPACE), (nombre, NOUN), (de, ADP), (la, DET), (persona, NOUN), (contratada, ADJ), ( , SPACE), (puesto, NOUN), (ocupado, ADJ), ( , SPACE), (vigencia, NOUN), (de, ADP), (la, DET), (contratación, NOUN), ( , SPACE), (y, CCONJ), (en, ADP), (su, DET), (caso, NOUN), ( , SPACE), (prórroga, NOUN), (., PUNCT)]   \n",
       "4                                                                                                                                                                           [(Agradeceré, VERB), (se, PRON), (me, PRON), (proporcione, VERB), (en, ADP), (archivo, NOUN), (magnético, ADJ), (y, CCONJ), (por, ADP), (este, DET), (medio, NOUN), ( , SPACE), (la, DET), (relación, NOUN), (de, ADP), (las, DET), (plazas, NOUN), (ocupadas, ADJ), (bajo, ADP), (el, DET), (amparo, NOUN), (del, ADP), (artículo, NOUN), (34, NUM), (de, ADP), (la, DET), (Ley, PROPN), (del, ADP), (Servicio, PROPN), (Profesional, PROPN), (de, ADP), (Carrera, PROPN), (en, ADP), (la, DET), (Administración, PROPN), (Pública, PROPN), (Federal, PROPN), (de, ADP), (2004, NOUN), (a, ADP), (2011, NOUN), ( , SPACE), (indicando, VERB), ( , SPACE), (nombre, NOUN), (de, ADP), (la, DET), (persona, NOUN), (contratada, ADJ), ( , SPACE), (puesto, NOUN), (ocupado, ADJ), ( , SPACE), (vigencia, NOUN), (de, ADP), (la, DET), (contratación, NOUN), ( , SPACE), (y, CCONJ), (en, ADP), (su, DET), (caso, NOUN), ( , SPACE), (prórroga, NOUN), (., PUNCT), (Lo, PRON), (anterior, ADJ), (debido, ADJ), (a, ADP), (que, SCONJ), (la, DET), (información, NOUN), (que, PRON), (tienen, VERB), (en, ADP), (su, DET), (portal, NOUN), (no, ADV), (indica, VERB), (las, DET), (vigencias, NOUN), (o, CCONJ), (fechas, NOUN), (de, ADP), (los, DET), (periodos, NOUN), (de, ADP), (contratación, NOUN), (de, ADP), (cada, DET), (persona, NOUN), (., PUNCT)]   \n",
       "\n",
       "                                                                                                                                                                                                                                                                                                                                                                                                                                                                                                                                                                                                                                                                                                   testado  \n",
       "0  [Copia, de, los, documentos, y, los, datos, con, que, cuenta, ####, respecto, al, comportamiento, histórico, de, los, pozos, típicos, comprendidos, en, el, ####, ####,  , estudios, científicos, y, variables, que, pudieran, presentarse,  , con, los, que, ####, ####, y, ####, elaboró, la, evaluación, integral, del, ####, ####, presentada, ante, la, ####,  , incluyendo, en, forma, específica, :, 1.-, La, producción, de, aceite, promedio,  , en, barriles, de, petróleo, por, pozo,  , al,  , principio, de, cada, uno, de, los,  , años, considerados, en, la, evaluación, integral, del, proyecto, ####, ;, 2.-La, declinación, anual, promedio, de, petróleo, por, pozo,  , usada, ...]  \n",
       "1                                                                                           [Del, ####,  , para, precisar, información, y, datos, usados, en, la, tabla, de, flujo, de, efectivo, (, ####, ), sobre, pozo, típico, de, ####, ####,  , elaborada, para, responder, a, la, solicitud, con, folio, ####, #, #, ####, ####,  , solicito, :, 1.-, La, producción, de, aceite, en, ####, al,  , principio, de, cada, uno, de, los, 10, años, considerados, en, la, tabla, ;, 2.-, El, costo, del, capital,  , usado, para, que, se, recuperara, la, inversión, en, 7, meses, ;, 3.-, El, precio, del, aceite, y, del, gas, considerados, para,  , cada, año, ;, 4.-,  , La, fórmula, usada, ...]  \n",
       "2                                                                                                                                                                                                                                                                                                   [Agradeceré, se, me, proporcione, en, archivo, magnético, y, por, este, medio,  , la, relación, de, las, plazas, ocupadas, bajo, el, amparo, del, artículo, 34, de, la, ####, del, ####, ####, de, ####, en, la, ####, ####, ####, de, 2004, a, 2007,  , indicando,  , nombre, de, la, persona, contratada,  , puesto, ocupado,  , vigencia, de, la, contratación,  , y, en, su, caso,  , prórroga, .]  \n",
       "3                                                                                                                                                                                                                                                                                                   [Agradeceré, se, me, proporcione, en, archivo, magnético, y, por, este, medio,  , la, relación, de, las, plazas, ocupadas, bajo, el, amparo, del, artículo, 34, de, la, ####, del, ####, ####, de, ####, en, la, ####, ####, ####, de, 2004, a, 2007,  , indicando,  , nombre, de, la, persona, contratada,  , puesto, ocupado,  , vigencia, de, la, contratación,  , y, en, su, caso,  , prórroga, .]  \n",
       "4                                                                                                                     [Agradeceré, se, me, proporcione, en, archivo, magnético, y, por, este, medio,  , la, relación, de, las, plazas, ocupadas, bajo, el, amparo, del, artículo, 34, de, la, ####, del, ####, ####, de, ####, en, la, ####, ####, ####, de, 2004, a, 2011,  , indicando,  , nombre, de, la, persona, contratada,  , puesto, ocupado,  , vigencia, de, la, contratación,  , y, en, su, caso,  , prórroga, ., Lo, anterior, debido, a, que, la, información, que, tienen, en, su, portal, no, indica, las, vigencias, o, fechas, de, los, periodos, de, contratación, de, cada, persona, .]  "
      ]
     },
     "execution_count": 10,
     "metadata": {},
     "output_type": "execute_result"
    }
   ],
   "source": [
    "df_entradas_100.head()"
   ]
  },
  {
   "cell_type": "code",
   "execution_count": 11,
   "metadata": {},
   "outputs": [
    {
     "name": "stdout",
     "output_type": "stream",
     "text": [
      "Total entradas: 10000\n",
      "Total palabras: 474477\n",
      "Total memoria: 37774.17 KB\n",
      "Tiempo de corrida: 30 min 3.796013355255127 seg\n"
     ]
    }
   ],
   "source": [
    "print('Total entradas: ' + str(df_entradas_100.shape[0]) + '\\nTotal palabras: ' + str(num_palabras) + '\\nTotal memoria: ' + str(tamanio_archivo/100) + \" KB\" + '\\nTiempo de corrida: ' + str(int((endTime - startTime)/60)) + ' min ' + str((endTime - startTime)%60) + ' seg')"
   ]
  }
 ],
 "metadata": {
  "kernelspec": {
   "display_name": "cdas_o22",
   "language": "python",
   "name": "python3"
  },
  "language_info": {
   "codemirror_mode": {
    "name": "ipython",
    "version": 3
   },
   "file_extension": ".py",
   "mimetype": "text/x-python",
   "name": "python",
   "nbconvert_exporter": "python",
   "pygments_lexer": "ipython3",
   "version": "3.10.8 | packaged by conda-forge | (main, Nov 24 2022, 14:07:00) [MSC v.1916 64 bit (AMD64)]"
  },
  "orig_nbformat": 4,
  "vscode": {
   "interpreter": {
    "hash": "9d39c667323fb0b0bc1a91a50793772bfde26a5b0af7b5e6bc375d64e532dc23"
   }
  }
 },
 "nbformat": 4,
 "nbformat_minor": 2
}
