{
 "cells": [
  {
   "cell_type": "code",
   "execution_count": 73,
   "metadata": {},
   "outputs": [],
   "source": [
    "import spacy\n",
    "import es_dep_news_trf\n",
    "import pandas as pd\n",
    "import re\n",
    "import time\n",
    "import multiprocessing as mp\n",
    "from itertools import chain\n",
    "\n",
    "pd.set_option('display.max_colwidth', None)\n",
    "pd.options.mode.chained_assignment = None  # default='warn'\n"
   ]
  },
  {
   "cell_type": "code",
   "execution_count": 74,
   "metadata": {},
   "outputs": [],
   "source": [
    "nlp = spacy.load(\"es_dep_news_trf\")\n",
    "nlp = es_dep_news_trf.load()"
   ]
  },
  {
   "cell_type": "code",
   "execution_count": 75,
   "metadata": {},
   "outputs": [],
   "source": [
    "df_instituciones=pd.read_csv(\"../data/instituciones.csv\")\n",
    "lista_instituciones=[]\n",
    "lista_instituciones.append(df_instituciones[\"Nombre_Completo\"].str.split().to_list())\n",
    "lista_instituciones=list(chain.from_iterable(list(chain.from_iterable(lista_instituciones))))\n",
    "lista_instituciones.append(df_instituciones[\"Siglas\"].to_list())"
   ]
  },
  {
   "cell_type": "code",
   "execution_count": 76,
   "metadata": {},
   "outputs": [],
   "source": [
    "#df_entradas=pd.read_feather('../data/solicitudes.feather') # cargar base\n",
    "df_entradas=pd.read_csv('../data/Prueba 1 ITAM.csv')\n",
    "\n",
    "tamanio_df = df_entradas.shape[0]\n",
    "#columna_interes= \"DESCRIPCIONSOLICITUD\"\n",
    "columna_interes= \"Descripción\"\n",
    "num_entradas_por_bloque = 10\n",
    "\n",
    "if((tamanio_df%num_entradas_por_bloque!=0)):\n",
    "    num_corridas=int(tamanio_df/num_entradas_por_bloque) + 1\n",
    "else:\n",
    "    num_corridas=int(tamanio_df/num_entradas_por_bloque)\n",
    "\n",
    "lim_inferior=0\n",
    "lim_sup=num_entradas_por_bloque\n"
   ]
  },
  {
   "cell_type": "code",
   "execution_count": 77,
   "metadata": {},
   "outputs": [
    {
     "name": "stdout",
     "output_type": "stream",
     "text": [
      "Total entradas: 10\n",
      "Total palabras: 855\n",
      "Total memoria: 60.16 KB\n",
      "Tiempo de corrida: 0 min 10.352156162261963 seg\n",
      "Total entradas: 7\n",
      "Total palabras: 758\n",
      "Total memoria: 51.72 KB\n",
      "Tiempo de corrida: 0 min 8.673729658126831 seg\n"
     ]
    }
   ],
   "source": [
    "for i in range(num_corridas):\n",
    "    df_entradas_100 = df_entradas.loc[lim_inferior:lim_sup-1, [columna_interes]]\n",
    "\n",
    "    num_palabras = sum([len(texto.split()) for texto in df_entradas_100[columna_interes]])\n",
    "    tamanio_archivo = df_entradas_100.memory_usage(deep=True).sum()\n",
    "\n",
    "    #%% reemplazamos las palabras de regex por #####\n",
    "    def testar_regex(texto):\n",
    "\n",
    "        #correo electronico\n",
    "        regex=re.sub(\"([a-zA-Z0-9._-]+@[a-zA-Z0-9._-]+\\.[a-zA-Z0-9_-]+)\", '#####', texto)\n",
    "\n",
    "        #clave de elector\n",
    "        regex=re.sub(\"[A-Z]{6}[0-9]{6,}(H|M)[0-9]{3}\", '#####', regex)\n",
    "\n",
    "        #curp\n",
    "        regex=re.sub(\"[A-Z]{4}[0-9]{6}[A-Z]{6}([A-Z][0-9]|0[0-9])\", '#####', regex)\n",
    "\n",
    "        #RFC\n",
    "        regex=re.sub(\"[A-Z,Ñ,&]{3,4}([0-9]{2})(0[1-9]|1[0-2])(0[1-9]|1[0-9]|2[0-9]|3[0-1])[A-Z|\\d]{3}\", '#####', regex)\n",
    "\n",
    "        #numero cartilla militar\n",
    "        regex=re.sub(\"(A|B|C)([0-9]{7,8}|\\-[0-9]{7,8})\", '#####', regex)\n",
    "\n",
    "        #numero tel\n",
    "        regex=re.sub(\"[0-9]{8,}|[0-9]{3} [0-9]{7}|[0-9]{2,3}(\\-|.)[0-9]{4}(\\-|.)[0-9]{4}\", '#####', regex)\n",
    "\n",
    "        return regex\n",
    "\n",
    "    startTime = time.time() \n",
    "    df_entradas_100[columna_interes] = df_entradas_100[columna_interes].apply(lambda x: testar_regex(x))\n",
    "\n",
    "    pool = mp.Pool(mp.cpu_count())\n",
    "\n",
    "    df_entradas_100['entidades'] = pool.map(nlp, df_entradas_100[columna_interes])\n",
    "\n",
    "    pool.close()\n",
    "\n",
    "    df_entradas_100['entidades'] = df_entradas_100['entidades'].apply(lambda X: [(entidad.text, entidad.pos_) for entidad in X])\n",
    "\n",
    "    df_entradas_100['testado'] = df_entradas_100['entidades'].apply(lambda x: [pair[0] if (pair[1]!=\"PROPN\" or (pair[0] in lista_instituciones)) else \"####\" for pair in x])\n",
    "    endTime = time.time()\n",
    "\n",
    "    df_entradas_100[['testado']] .to_csv('../out/bloque' + str(i) + '.csv')\n",
    "    print('Total entradas: ' + str(df_entradas_100.shape[0]) + '\\nTotal palabras: ' + str(num_palabras) + '\\nTotal memoria: ' + str(tamanio_archivo/100) + \" KB\" + '\\nTiempo de corrida: ' + str(int((endTime - startTime)/60)) + ' min ' + str((endTime - startTime)%60) + ' seg')\n",
    "\n",
    "    lim_inferior=lim_sup\n",
    "    if((lim_sup+num_entradas_por_bloque)>tamanio_df):\n",
    "        lim_sup=tamanio_df\n",
    "    else:\n",
    "        lim_sup=lim_sup+num_entradas_por_bloque\n"
   ]
  }
 ],
 "metadata": {
  "kernelspec": {
   "display_name": "cdas_o22",
   "language": "python",
   "name": "python3"
  },
  "language_info": {
   "codemirror_mode": {
    "name": "ipython",
    "version": 3
   },
   "file_extension": ".py",
   "mimetype": "text/x-python",
   "name": "python",
   "nbconvert_exporter": "python",
   "pygments_lexer": "ipython3",
   "version": "3.10.8 | packaged by conda-forge | (main, Nov 24 2022, 14:07:00) [MSC v.1916 64 bit (AMD64)]"
  },
  "orig_nbformat": 4,
  "vscode": {
   "interpreter": {
    "hash": "9d39c667323fb0b0bc1a91a50793772bfde26a5b0af7b5e6bc375d64e532dc23"
   }
  }
 },
 "nbformat": 4,
 "nbformat_minor": 2
}
