{
 "cells": [
  {
   "cell_type": "code",
   "execution_count": 21,
   "metadata": {},
   "outputs": [
    {
     "name": "stderr",
     "output_type": "stream",
     "text": [
      "[nltk_data] Downloading package punkt to\n",
      "[nltk_data]     C:\\Users\\samue\\AppData\\Roaming\\nltk_data...\n",
      "[nltk_data]   Package punkt is already up-to-date!\n"
     ]
    }
   ],
   "source": [
    "from flair.data import Sentence\n",
    "from flair.models import SequenceTagger\n",
    "import pandas as pd\n",
    "import numpy as np\n",
    "import time\n",
    "import re\n",
    "import multiprocessing as mp\n",
    "import nltk\n",
    "import nltk.data\n",
    "nltk.download('punkt')\n",
    "\n",
    "pd.set_option('display.max_colwidth', None)"
   ]
  },
  {
   "cell_type": "code",
   "execution_count": 2,
   "metadata": {},
   "outputs": [],
   "source": [
    "#paths\n",
    "pathBHR = '../archivos/csv/Bot_history_report.csv'\n",
    "pathPrueba1 = '../data/BD_testparatesteo.xlsx'\n",
    "pathPalabrasLlave = '../archivos/csv/Copia de Palabras llave RFP.csv'\n",
    "pathTraining = '../archivos/csv/Training_data.csv'\n",
    "pathOutput = '../out/out2.csv'\n",
    "pathRes = '../out/res2.csv'\n",
    "pathDur = '../out/dur2.csv'"
   ]
  },
  {
   "cell_type": "code",
   "execution_count": 3,
   "metadata": {},
   "outputs": [],
   "source": [
    "#%% cositas de archivos\n",
    "df = pd.read_excel(pathPrueba1)\n"
   ]
  },
  {
   "cell_type": "code",
   "execution_count": 32,
   "metadata": {},
   "outputs": [],
   "source": [
    "df_testeo_10 = df[['DESCRIPCIONSOLICITUD']].loc[0:10]\n",
    "df_testeo_100 = df[['DESCRIPCIONSOLICITUD']].loc[0:100]\n",
    "df_testeo_1000 = df[['DESCRIPCIONSOLICITUD']].loc[0:1000]\n",
    "df_testeo_10000 = df[['DESCRIPCIONSOLICITUD']].loc[0:10000]"
   ]
  },
  {
   "cell_type": "code",
   "execution_count": 43,
   "metadata": {},
   "outputs": [
    {
     "name": "stdout",
     "output_type": "stream",
     "text": [
      "2023-01-21 15:53:08,540 loading file C:\\Users\\samue\\.flair\\models\\ner-spanish-large\\models--flair--ner-spanish-large\\snapshots\\9d4671d2f345c1258f37a29ce2321067f2ed296e\\pytorch_model.bin\n",
      "2023-01-21 15:53:29,632 SequenceTagger predicts: Dictionary with 20 tags: <unk>, O, S-LOC, S-ORG, B-PER, I-PER, E-PER, S-MISC, B-ORG, E-ORG, S-PER, I-ORG, B-LOC, E-LOC, B-MISC, E-MISC, I-MISC, I-LOC, <START>, <STOP>\n"
     ]
    }
   ],
   "source": [
    "tagger = SequenceTagger.load(\"flair/ner-spanish-large\") # load tagger\n",
    "\n",
    "def predicter(text):\n",
    "    sent_tokenize = nltk.sent_tokenize(text)\n",
    "    flair_sentences = [Sentence(sen) for sen in sent_tokenize]\n",
    "    flair_tagger = tagger.predict(flair_sentences) \n",
    "    return flair_tagger\n"
   ]
  },
  {
   "cell_type": "code",
   "execution_count": 45,
   "metadata": {},
   "outputs": [],
   "source": [
    "#computo \n",
    "testeo_100=[(predicter(texto)) for texto in df_testeo_100['DESCRIPCIONSOLICITUD']]\n",
    "\n",
    "#testeo 100 - 3 min 48 seg // ganó vs paralelo"
   ]
  },
  {
   "cell_type": "code",
   "execution_count": 46,
   "metadata": {},
   "outputs": [],
   "source": [
    "pool = mp.Pool(mp.cpu_count())\n",
    "\n",
    "testeo_100_paralelo = pool.map(predicter, [sen for sen in df_testeo_100['DESCRIPCIONSOLICITUD']])\n",
    "\n",
    "pool.close()"
   ]
  },
  {
   "cell_type": "code",
   "execution_count": null,
   "metadata": {},
   "outputs": [],
   "source": [
    "for index, sen in enumerate(serie):\n",
    "    sentence = Sentence(sen)\n",
    "    tagger.predict(sentence) # predict NER tags\n",
    "    \n",
    "    for entity in sentence.get_spans('ner'): # iterate over entities and print\n",
    "        f.write(str(index) + ',' +  str(entity.get_label(\"ner\").value) + ',' + str(entity.text) + ',' + str(entity.start_position) + ',' +  str(entity.end_position) + ',' +  str(entity.get_label(\"ner\").score) + '\\n')\n",
    "f.close()\n",
    "\n",
    "endTime = time.time()\n",
    "duration = endTime - startTime # get the execution time"
   ]
  }
 ],
 "metadata": {
  "kernelspec": {
   "display_name": "cdas_o22",
   "language": "python",
   "name": "python3"
  },
  "language_info": {
   "codemirror_mode": {
    "name": "ipython",
    "version": 3
   },
   "file_extension": ".py",
   "mimetype": "text/x-python",
   "name": "python",
   "nbconvert_exporter": "python",
   "pygments_lexer": "ipython3",
   "version": "3.10.8 | packaged by conda-forge | (main, Nov 24 2022, 14:07:00) [MSC v.1916 64 bit (AMD64)]"
  },
  "orig_nbformat": 4,
  "vscode": {
   "interpreter": {
    "hash": "9d39c667323fb0b0bc1a91a50793772bfde26a5b0af7b5e6bc375d64e532dc23"
   }
  }
 },
 "nbformat": 4,
 "nbformat_minor": 2
}
